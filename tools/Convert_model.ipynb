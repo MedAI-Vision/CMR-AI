{
 "cells": [
  {
   "cell_type": "code",
   "execution_count": 1,
   "id": "db7a1249",
   "metadata": {},
   "outputs": [],
   "source": [
    "import collections\n",
    "import torch\n",
    "import os"
   ]
  },
  {
   "cell_type": "code",
   "execution_count": 2,
   "id": "60317011",
   "metadata": {},
   "outputs": [],
   "source": [
    "def convert_fusion_model(model_path,save_path):\n",
    "    model_state_dict=torch.load(model_path)['state_dict']\n",
    "    fusion_model_dict=collections.OrderedDict()\n",
    "    for key in model_state_dict.keys():\n",
    "        if key.startswith('backbone'):\n",
    "            newkey=key.replace('backbone.','')\n",
    "            fusion_model_dict[newkey]=model_state_dict[key]\n",
    "    torch.save(fusion_model_dict,save_path)"
   ]
  },
  {
   "cell_type": "code",
   "execution_count": 3,
   "id": "25894f9f",
   "metadata": {},
   "outputs": [],
   "source": [
    "path = '/data/.../VST_fusion_dataset/workdir/4ch_cine_11cls/spacing_0.994/TEST001/epoch-300.pth'\n",
    "output = path.replace('.pth','_fusion_base.pth')\n",
    "convert_fusion_model(path, output)"
   ]
  },
  {
   "cell_type": "code",
   "execution_count": null,
   "id": "1ceca07a",
   "metadata": {},
   "outputs": [],
   "source": [
    "root = '/data/.../VST_fusion_dataset/workdir/sax_lge_11cls/spacing_0.994'\n",
    "for root, dirs, files in os.walk(root):\n",
    "    if ('TRAIN' in root or root.split('/')[-1] == 'TRAIN') and ('seed' in root):\n",
    "        for file in files:\n",
    "            if 'epoch_' in file:\n",
    "                print(root, file)\n",
    "                path = os.path.join(root, file)\n",
    "                output = path.replace('.pth','_fusion_base.pth')\n",
    "                convert_fusion_model(path, output)\n"
   ]
  },
  {
   "cell_type": "code",
   "execution_count": null,
   "id": "05c43d45",
   "metadata": {},
   "outputs": [],
   "source": []
  }
 ],
 "metadata": {
  "kernelspec": {
   "display_name": "Python 3 (ipykernel)",
   "language": "python",
   "name": "python3"
  },
  "language_info": {
   "codemirror_mode": {
    "name": "ipython",
    "version": 3
   },
   "file_extension": ".py",
   "mimetype": "text/x-python",
   "name": "python",
   "nbconvert_exporter": "python",
   "pygments_lexer": "ipython3",
   "version": "3.8.10"
  }
 },
 "nbformat": 4,
 "nbformat_minor": 5
}
